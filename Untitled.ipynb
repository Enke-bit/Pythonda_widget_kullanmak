{
 "cells": [
  {
   "cell_type": "code",
   "execution_count": 10,
   "id": "4a0a5cd8",
   "metadata": {},
   "outputs": [],
   "source": [
    "# kulanacağım kütüpaneleri import ediyorum.\n",
    "\n",
    "# widgets:\n",
    "import ipywidgets as widgets # --> widget kulanacağım için bu kütüpaneleri indiriyorum.\n",
    "\n",
    "# CSV / DataFrame: \n",
    "import pandas as pd # --> csv tipi datalar ile uğraşaçağım için bu paketleride inditriyorum.\n",
    "import numpy as np\n",
    "from io import StringIO # --> string tipinde veriler ile uğraşaçağım için bu paketlaride kuruyorum.\n",
    "\n",
    "# Drawing:\n",
    "import matplotlib.pyplot as plt # --> verilerin ciziminde kullanmak üzere bu pakaetlaride indiriyorum.\n",
    "%matplotlib inline"
   ]
  },
  {
   "cell_type": "markdown",
   "id": "b9f9527f",
   "metadata": {},
   "source": [
    "# tabs"
   ]
  },
  {
   "cell_type": "code",
   "execution_count": 11,
   "id": "b2e67574",
   "metadata": {},
   "outputs": [
    {
     "data": {
      "application/vnd.jupyter.widget-view+json": {
       "model_id": "67db0a23b4b1446584b7fca84a9373bb",
       "version_major": 2,
       "version_minor": 0
      },
      "text/plain": [
       "Tab(children=(Label(value=''), Label(value=''), Label(value='')), selected_index=0, titles=('Upload', 'Describ…"
      ]
     },
     "execution_count": 11,
     "metadata": {},
     "output_type": "execute_result"
    }
   ],
   "source": [
    "tab = widgets.Tab() # bir tab yapacağım için bie tab acmasını istedim.\n",
    "placehoder = widgets.Label() # burada bir label tanımlamasını yaptım.\n",
    "tab.children = [placehoder,placehoder,placehoder] # üç sekme tanımlaması yaptım.\n",
    "tab.set_title(0, \"Upload\") # bu seklemeleri burada tanımlamasını yaptım.\n",
    "tab.set_title(1, \"Describer\")\n",
    "tab.set_title(2, \"Plotter\")\n",
    "tab\n"
   ]
  },
  {
   "cell_type": "markdown",
   "id": "6029b131",
   "metadata": {},
   "source": [
    "# fileupload widget"
   ]
  },
  {
   "cell_type": "code",
   "execution_count": 12,
   "id": "b884f6ea",
   "metadata": {},
   "outputs": [
    {
     "data": {
      "application/vnd.jupyter.widget-view+json": {
       "model_id": "ada4a8a9d33f4c8b9a668f31da0045cf",
       "version_major": 2,
       "version_minor": 0
      },
      "text/plain": [
       "FileUpload(value=(), description='Upload')"
      ]
     },
     "execution_count": 12,
     "metadata": {},
     "output_type": "execute_result"
    }
   ],
   "source": [
    "# --> kullanicidan uyhulamalı şekilde dosya almayı sağlar.\n",
    "\n",
    "up = widgets.FileUpload(accept=\"\", multiple=False)\n",
    "up"
   ]
  },
  {
   "cell_type": "markdown",
   "id": "7801bde1",
   "metadata": {},
   "source": [
    "# output widget"
   ]
  },
  {
   "cell_type": "code",
   "execution_count": 13,
   "id": "3d3ddb14",
   "metadata": {},
   "outputs": [
    {
     "data": {
      "application/vnd.jupyter.widget-view+json": {
       "model_id": "67db0a23b4b1446584b7fca84a9373bb",
       "version_major": 2,
       "version_minor": 0
      },
      "text/plain": [
       "Tab(children=(FileUpload(value=(), description='Upload'), Output(layout=Layout(border_bottom='1px solid black'…"
      ]
     },
     "execution_count": 13,
     "metadata": {},
     "output_type": "execute_result"
    }
   ],
   "source": [
    "# --> kulanıcının yaptığı işlemler sonrasından ceşitli bilgilerin ekrana döndürülmesini sağlar.\n",
    "\n",
    "out = widgets.Output(layout={'border': '1px solid black'})\n",
    "tab.children=[up, out, out]\n",
    "tab"
   ]
  },
  {
   "cell_type": "markdown",
   "id": "8975ab33",
   "metadata": {},
   "source": [
    "# SelectMULtiple Widget"
   ]
  },
  {
   "cell_type": "code",
   "execution_count": 14,
   "id": "0948b283",
   "metadata": {},
   "outputs": [
    {
     "data": {
      "application/vnd.jupyter.widget-view+json": {
       "model_id": "cc9dc9d667804328978789eb37d50ce0",
       "version_major": 2,
       "version_minor": 0
      },
      "text/plain": [
       "SelectMultiple(description='Eraser:', index=(0,), options=('tab', '\"\"'), value=('tab',))"
      ]
     },
     "execution_count": 14,
     "metadata": {},
     "output_type": "execute_result"
    }
   ],
   "source": [
    "# --> çoklu seçim yapmayı sağlayan bir widget türüdür. Ayrıca kullanıcı imkan sağladığında tekli seçimde yapabilirsiniz.,\n",
    "# --> Çoklu seçim yapmayı shift tuşunu kulanarak yapaliri kullanıcı.\n",
    "\n",
    "eraser = widgets.SelectMultiple(\n",
    "    options=['tab', '\"\"'],\n",
    "    value=['tab'],\n",
    "    #rows=10,\n",
    "    description='Eraser:',\n",
    "    disabled=False\n",
    ")\n",
    "eraser"
   ]
  },
  {
   "cell_type": "markdown",
   "id": "615ffcd9",
   "metadata": {},
   "source": [
    "# Radio BUttonWidgets"
   ]
  },
  {
   "cell_type": "code",
   "execution_count": 16,
   "id": "947b7e03",
   "metadata": {},
   "outputs": [
    {
     "data": {
      "application/vnd.jupyter.widget-view+json": {
       "model_id": "f829f62399b6406dada713fc3ef4a053",
       "version_major": 2,
       "version_minor": 0
      },
      "text/plain": [
       "RadioButtons(description='Separator:', options=(';', ',', ''), value=';')"
      ]
     },
     "execution_count": 16,
     "metadata": {},
     "output_type": "execute_result"
    }
   ],
   "source": [
    "#--> Radio button tanımlaması tekli saçim esnasında kullanılır ve yapılır.\n",
    "delim = widgets.RadioButtons(\n",
    "    options=[';',',',''],\n",
    "    description='Separator:',\n",
    "    disabled=False\n",
    ")\n",
    "delim"
   ]
  },
  {
   "cell_type": "markdown",
   "id": "af3da303",
   "metadata": {},
   "source": [
    "# InstSlider"
   ]
  },
  {
   "cell_type": "code",
   "execution_count": 18,
   "id": "fa19ae42",
   "metadata": {},
   "outputs": [
    {
     "data": {
      "application/vnd.jupyter.widget-view+json": {
       "model_id": "7543f22d4c17433ca6220b69319aa6ae",
       "version_major": 2,
       "version_minor": 0
      },
      "text/plain": [
       "IntRangeSlider(value=(0, 1), continuous_update=False, description='# of lines:')"
      ]
     },
     "execution_count": 18,
     "metadata": {},
     "output_type": "execute_result"
    }
   ],
   "source": [
    "#--> 0 ile 1 aralığında olan ve her seferinde bir artan bir slider bir widget tanımladık.\n",
    "rows = widgets.IntRangeSlider(\n",
    "    value=(0, 1),  # Value should be a tuple (min, max)\n",
    "    step=1,\n",
    "    description='# of lines:',  \n",
    "    disabled=False,\n",
    "    continuous_update=False,  \n",
    "    orientation='horizontal',\n",
    "    readout=True,\n",
    "    readout_format='d'  \n",
    ")\n",
    "\n",
    "rows  # Bu çıktıyı kullanarak widget'ı görebilirsiniz"
   ]
  },
  {
   "cell_type": "markdown",
   "id": "d5d771d6",
   "metadata": {},
   "source": [
    "# Accordion Widget"
   ]
  },
  {
   "cell_type": "code",
   "execution_count": 19,
   "id": "6a94e4d7",
   "metadata": {},
   "outputs": [
    {
     "data": {
      "application/vnd.jupyter.widget-view+json": {
       "model_id": "3203dc3c75394e3b8e54684e7a4c2e61",
       "version_major": 2,
       "version_minor": 0
      },
      "text/plain": [
       "Accordion(children=(FileUpload(value=(), description='Upload'), RadioButtons(description='Separator:', index=2…"
      ]
     },
     "execution_count": 19,
     "metadata": {},
     "output_type": "execute_result"
    }
   ],
   "source": [
    "#--> acoordion widget ise acılan pencere şeklinde olan ve içine girdi tanımlayabileceğimiz bir yapıya sahiptir.\n",
    "accordion = widgets.Accordion() # burada widget tanımlamasını yapıyorum.\n",
    "accordion.children=[ # içine girecek olana değerlerin tanımlamasını yapmış oluyorum.\n",
    "    up,\n",
    "    delim,\n",
    "    rows]\n",
    "accordion.set_title(0, 'file selection') # tanımnladığım pencerelerin görev tanımlamasını ise burada uyapmış oluyorum.\n",
    "accordion.set_title(1, 'delimiter')\n",
    "accordion.set_title(2, 'skip wors')\n",
    "accordion"
   ]
  },
  {
   "cell_type": "markdown",
   "id": "7de6895d",
   "metadata": {},
   "source": [
    "# Button widget"
   ]
  },
  {
   "cell_type": "code",
   "execution_count": 20,
   "id": "4e32567f",
   "metadata": {},
   "outputs": [
    {
     "data": {
      "application/vnd.jupyter.widget-view+json": {
       "model_id": "e4d66d589e134159a2d1c17def483d7c",
       "version_major": 2,
       "version_minor": 0
      },
      "text/plain": [
       "Button(button_style='warning', description='upload', icon='check', style=ButtonStyle(), tooltip='click on uplo…"
      ]
     },
     "execution_count": 20,
     "metadata": {},
     "output_type": "execute_result"
    }
   ],
   "source": [
    "#--> kullanıcı ile etkileşime giren ve farklı yazı, şekil olmak üzere görevine göre özelleştirile bilir bir yapıya sahiptir.\n",
    "\n",
    "button_upload = widgets.Button(\n",
    "    description='upload', # buttona verilecek isim olarak tanımlayabiliriz.\n",
    "    disabled=False,\n",
    "    button_style='warning', # buttonun tipini tanımlaya biliriz..\n",
    "    tooltip='click on upload', # tıkla ve gönder tarzında bir tanımlama yapıyoruz\n",
    "    icon='check' # görselini güçlendirmeye çalışıyorum.\n",
    ")\n",
    "button_upload"
   ]
  },
  {
   "cell_type": "code",
   "execution_count": 24,
   "id": "71836156",
   "metadata": {},
   "outputs": [
    {
     "data": {
      "application/vnd.jupyter.widget-view+json": {
       "model_id": "769b9fe1499947b5b7a327750b1f6e7f",
       "version_major": 2,
       "version_minor": 0
      },
      "text/plain": [
       "Button(button_style='info', description='preview', icon='search', style=ButtonStyle(), tooltip='click on previ…"
      ]
     },
     "execution_count": 24,
     "metadata": {},
     "output_type": "execute_result"
    }
   ],
   "source": [
    "#--> farklı görev için kullanacak olan buttonlar içinb farklı tipte buttonlar tanıomlayabiliriz.\n",
    "button_preview = widgets.Button(\n",
    "    description='preview', \n",
    "    disabled=False,\n",
    "    button_style='info',\n",
    "    tooltip='click on preview',\n",
    "    icon='search'\n",
    ")\n",
    "button_preview\n",
    "#--> farklıo görevler için tanımlanabilir buttonların görünüşünüde görevine uygun şekilde tanımlanabilir."
   ]
  },
  {
   "cell_type": "code",
   "execution_count": 25,
   "id": "719b8c3d",
   "metadata": {},
   "outputs": [
    {
     "data": {
      "application/vnd.jupyter.widget-view+json": {
       "model_id": "ea765e1b0f8e4f2e9d97f9ad9c18305f",
       "version_major": 2,
       "version_minor": 0
      },
      "text/plain": [
       "Button(button_style='danger', description='plot', icon='pencil', style=ButtonStyle(), tooltip='click on plot')"
      ]
     },
     "execution_count": 25,
     "metadata": {},
     "output_type": "execute_result"
    }
   ],
   "source": [
    "#--> aynı şekilde farklı bir button tanımlaması yapabiliriz.\n",
    "\n",
    "button_plot = widgets.Button(\n",
    "    description='plot', \n",
    "    disabled=False,\n",
    "    button_style='danger',\n",
    "    tooltip='click on plot',\n",
    "    icon='pencil'\n",
    ")\n",
    "button_plot"
   ]
  },
  {
   "cell_type": "markdown",
   "id": "8d705577",
   "metadata": {},
   "source": [
    "# Groupping - HBox/VBox"
   ]
  },
  {
   "cell_type": "code",
   "execution_count": 26,
   "id": "9164ba9f",
   "metadata": {},
   "outputs": [
    {
     "data": {
      "application/vnd.jupyter.widget-view+json": {
       "model_id": "925f8895ba4e4c09a2bf22d11f8d618c",
       "version_major": 2,
       "version_minor": 0
      },
      "text/plain": [
       "VBox(children=(RadioButtons(description='Separator:', index=2, options=(';', ',', ''), value=''), SelectMultip…"
      ]
     },
     "execution_count": 26,
     "metadata": {},
     "output_type": "execute_result"
    }
   ],
   "source": [
    "# bu kullanımı kullanılan widgetları gruplandırılması ve bir araya getirilesi için kullanılır.\n",
    "\n",
    "vb = widgets.VBox([delim,eraser])\n",
    "vb\n",
    "# bu kullanım dikeyi temsil etmektedir."
   ]
  },
  {
   "cell_type": "code",
   "execution_count": 27,
   "id": "7ed5ae2d",
   "metadata": {},
   "outputs": [
    {
     "data": {
      "application/vnd.jupyter.widget-view+json": {
       "model_id": "e953ccb1547747b7a169b5fc8c8ca655",
       "version_major": 2,
       "version_minor": 0
      },
      "text/plain": [
       "HBox(children=(RadioButtons(description='Separator:', index=2, options=(';', ',', ''), value=''), SelectMultip…"
      ]
     },
     "execution_count": 27,
     "metadata": {},
     "output_type": "execute_result"
    }
   ],
   "source": [
    "hb = widgets.HBox([delim,eraser])\n",
    "hb\n",
    "# bu kullanım tarzı ise yatayı temsil etmektedir."
   ]
  },
  {
   "cell_type": "code",
   "execution_count": 28,
   "id": "f6ce656a",
   "metadata": {},
   "outputs": [
    {
     "data": {
      "application/vnd.jupyter.widget-view+json": {
       "model_id": "dcbe2b97a48343d994544dab275ef40c",
       "version_major": 2,
       "version_minor": 0
      },
      "text/plain": [
       "VBox(children=(Accordion(children=(FileUpload(value=(), description='Upload'), RadioButtons(description='Separ…"
      ]
     },
     "execution_count": 28,
     "metadata": {},
     "output_type": "execute_result"
    }
   ],
   "source": [
    "accordion.children=[\n",
    "    up,\n",
    "    delim,\n",
    "    rows]\n",
    "accordion_box = widgets.VBox([\n",
    "    accordion,\n",
    "    widgets.HBox([button_preview,button_upload]),\n",
    "    out\n",
    "])\n",
    "accordion_box\n",
    "# bu örnek ise beraber kullanımına dayanı bir örnek oluyor."
   ]
  },
  {
   "cell_type": "markdown",
   "id": "32bb423b",
   "metadata": {},
   "source": [
    "# ToppleButtons Widget"
   ]
  },
  {
   "cell_type": "code",
   "execution_count": 37,
   "id": "cad69342",
   "metadata": {},
   "outputs": [
    {
     "data": {
      "application/vnd.jupyter.widget-view+json": {
       "model_id": "2908ca7964064c80ab2697c96bdb7a50",
       "version_major": 2,
       "version_minor": 0
      },
      "text/plain": [
       "ToggleButtons(button_style='warning', description='options', icons=('search', 'info', 'tachometer'), options=(…"
      ]
     },
     "execution_count": 37,
     "metadata": {},
     "output_type": "execute_result"
    }
   ],
   "source": [
    "topple = widgets.ToggleButtons(\n",
    "    options=['preview ', 'info ', 'stars '],\n",
    "    description='options', \n",
    "    disabled=False,\n",
    "    button_style='warning',\n",
    "    icons = [ 'search' , 'info' , 'tachometer' ]\n",
    ") \n",
    "topple\n",
    "#--> buttonların aslında radiobutton gibi kulanımıdır sadece secili olan button active olacaktır."
   ]
  },
  {
   "cell_type": "markdown",
   "id": "cbe889c3",
   "metadata": {},
   "source": [
    "# Dropdown Widget"
   ]
  },
  {
   "cell_type": "code",
   "execution_count": 38,
   "id": "f559f03f",
   "metadata": {},
   "outputs": [
    {
     "data": {
      "application/vnd.jupyter.widget-view+json": {
       "model_id": "36336e13e5794cb09d83f9238c5e9ec1",
       "version_major": 2,
       "version_minor": 0
      },
      "text/plain": [
       "Dropdown(description='chart type:', options=('bar chart', 'line chart'), value='bar chart')"
      ]
     },
     "execution_count": 38,
     "metadata": {},
     "output_type": "execute_result"
    }
   ],
   "source": [
    "x_axis = widgets.Dropdown(\n",
    "    options=[''],\n",
    "    value='',\n",
    "    description='x-axis:',\n",
    "    disabled=False,\n",
    ")\n",
    "y_axis = widgets.Dropdown(\n",
    "    options=[''],\n",
    "    value='',\n",
    "    description='y-axis:',\n",
    "    disabled=False,\n",
    ")\n",
    "grap_type = widgets.Dropdown(\n",
    "    options=['bar chart', 'line chart'],\n",
    "    value='bar chart',\n",
    "    description='chart type:',\n",
    "    disabled=False,\n",
    ")\n",
    "grap_type\n",
    "# seçilebilir bir var oluşturup içine değerler vermekdir aslında olağan."
   ]
  },
  {
   "cell_type": "code",
   "execution_count": 39,
   "id": "1e1710b0",
   "metadata": {},
   "outputs": [
    {
     "data": {
      "application/vnd.jupyter.widget-view+json": {
       "model_id": "be530214f69e49ff9b39b6c3c7b7e9e5",
       "version_major": 2,
       "version_minor": 0
      },
      "text/plain": [
       "ColorPicker(value='blue', description='color picker: ')"
      ]
     },
     "execution_count": 39,
     "metadata": {},
     "output_type": "execute_result"
    }
   ],
   "source": [
    "color_picker = widgets.ColorPicker(\n",
    "    concise=False,\n",
    "    description='color picker: ',\n",
    "    value='blue',\n",
    "    disabled=False\n",
    ")\n",
    "color_picker\n",
    "# temelde renk seçmeye yarayan bir widgetttir."
   ]
  }
 ],
 "metadata": {
  "kernelspec": {
   "display_name": "Python 3 (ipykernel)",
   "language": "python",
   "name": "python3"
  },
  "language_info": {
   "codemirror_mode": {
    "name": "ipython",
    "version": 3
   },
   "file_extension": ".py",
   "mimetype": "text/x-python",
   "name": "python",
   "nbconvert_exporter": "python",
   "pygments_lexer": "ipython3",
   "version": "3.11.5"
  }
 },
 "nbformat": 4,
 "nbformat_minor": 5
}
